{
 "cells": [
  {
   "cell_type": "code",
   "execution_count": 1,
   "metadata": {},
   "outputs": [],
   "source": [
    "import os\n",
    "os.environ[\"CUDA_DEVICE_ORDER\"]=\"PCI_BUS_ID\"   \n",
    "os.environ[\"CUDA_VISIBLE_DEVICES\"]=\"-1\"\n",
    "\n",
    "import pickle\n",
    "\n",
    "import numpy as np\n",
    "import pandas as pd\n",
    "import tensorflow as tf\n",
    "import matplotlib.pyplot as plt\n",
    "import seaborn as sns\n",
    "\n",
    "import models\n",
    "import DataGenerator"
   ]
  },
  {
   "cell_type": "code",
   "execution_count": 2,
   "metadata": {},
   "outputs": [],
   "source": [
    "data_path = './output/full(0716).json'\n",
    "mapping_path = './output/mapping(0716).pickle'\n",
    "\n",
    "full = pd.read_json(data_path)\n",
    "songmeta =pd.read_json( './data/song_meta.json')\n",
    "\n",
    "with open(mapping_path, 'rb') as f:\n",
    "    mapping = pickle.load(f)\n",
    "    \n",
    "mapping['inverse_mapping'] = dict(zip(mapping['mapping'].values(), mapping['mapping'].keys()))\n",
    "dim = mapping['num_songs'] + mapping['num_tags'] + mapping['num_genres']"
   ]
  },
  {
   "cell_type": "code",
   "execution_count": 3,
   "metadata": {},
   "outputs": [],
   "source": [
    "batch_size = 1\n",
    "\n",
    "train_gen = DataGenerator.DataGenerator(df = full.loc[full['dataset'] == 0],\n",
    "                                        mode='predict',\n",
    "                                        shuffle=False,\n",
    "                                        batch_size = batch_size)\n",
    "    \n",
    "val_gen = DataGenerator.DataGenerator(df = full.loc[full['dataset'] == 1],\n",
    "                                      shuffle=False,\n",
    "                                      mode='predict',\n",
    "                                      batch_size = batch_size)"
   ]
  },
  {
   "cell_type": "code",
   "execution_count": 5,
   "metadata": {},
   "outputs": [],
   "source": [
    "autoencoder = models.AutoEncoder(dim_input=dim, dim_latent=256)\n",
    "autoencoder.build((batch_size, dim))\n",
    "\n",
    "autoencoder.load_weights('./model_checkpoints/tied_dae_loss055')\n",
    "\n",
    "autoencoder.set_weights([autoencoder.weights[0].numpy(),\n",
    "                         autoencoder.weights[1].numpy(),\n",
    "                         autoencoder.weights[0].numpy().T,\n",
    "                         autoencoder.weights[3].numpy()])"
   ]
  },
  {
   "cell_type": "code",
   "execution_count": 4,
   "metadata": {},
   "outputs": [],
   "source": [
    "def predict_batches(model, batches):\n",
    "    latent = model.encoder(batches)\n",
    "    output = model.decoder(latent)\n",
    "    \n",
    "    return output\n",
    "\n",
    "def predict_batches_TOPK(model, batches, lookup, K=10):\n",
    "    output = predict_batches(model, batches)\n",
    "    \n",
    "    songs_pred = output[:, :123464]\n",
    "    tags_pred = output[:, 123464:123464+25499]\n",
    "    genres_pred = output[:, 123464+25499:]\n",
    "    \n",
    "    sorted_songs_pred = np.flip(np.argsort(songs_pred))[:,:K]\n",
    "    sorted_tags_pred = np.flip(np.argsort(tags_pred))[:,:K] + 123464\n",
    "    sorted_genres_pred = np.flip(np.argsort(genres_pred))[:,:K] + 123464+25499\n",
    "    \n",
    "    songs_pred = []\n",
    "    for row in sorted_songs_pred:\n",
    "        songs_pred.append([songmeta.loc[lookup[song],'song_name'] for song in row])\n",
    "        \n",
    "    tags_pred = []\n",
    "    for row in sorted_tags_pred:\n",
    "        tags_pred.append([lookup[tag] for tag in row])\n",
    "        \n",
    "    genres_pred = []\n",
    "    for row in sorted_genres_pred:\n",
    "        genres_pred.append([lookup[genre] for genre in row])\n",
    "    \n",
    "    \n",
    "    return np.concatenate((songs_pred, tags_pred, genres_pred), axis = 1)"
   ]
  },
  {
   "cell_type": "code",
   "execution_count": 27,
   "metadata": {},
   "outputs": [],
   "source": [
    "a = val_gen.__iter__()\n",
    "b = train_gen.__iter__()"
   ]
  },
  {
   "cell_type": "code",
   "execution_count": 28,
   "metadata": {},
   "outputs": [],
   "source": [
    "batches = next(a)"
   ]
  },
  {
   "cell_type": "code",
   "execution_count": 19,
   "metadata": {},
   "outputs": [
    {
     "data": {
      "text/plain": [
       "<matplotlib.axes._subplots.AxesSubplot at 0x2c3c8094438>"
      ]
     },
     "execution_count": 19,
     "metadata": {},
     "output_type": "execute_result"
    },
    {
     "data": {
      "image/png": "[encoded data removed]",
      "text/plain": [
       "<Figure size 432x288 with 1 Axes>"
      ]
     },
     "metadata": {
      "needs_background": "light"
     },
     "output_type": "display_data"
    }
   ],
   "source": [
    "sns.distplot((autoencoder.predict(batches)[0][:123464]),kde=False)"
   ]
  },
  {
   "cell_type": "code",
   "execution_count": 18,
   "metadata": {},
   "outputs": [
    {
     "data": {
      "text/plain": [
       "3"
      ]
     },
     "execution_count": 18,
     "metadata": {},
     "output_type": "execute_result"
    }
   ],
   "source": [
    "(autoencoder.predict(batches)[0] == 1.0).sum()"
   ]
  },
  {
   "cell_type": "code",
   "execution_count": 21,
   "metadata": {},
   "outputs": [
    {
     "data": {
      "text/plain": [
       "0.99912196"
      ]
     },
     "execution_count": 21,
     "metadata": {},
     "output_type": "execute_result"
    }
   ],
   "source": [
    "(autoencoder.predict(batches)[0][:123464]).max()"
   ]
  },
  {
   "cell_type": "code",
   "execution_count": 17,
   "metadata": {},
   "outputs": [
    {
     "data": {
      "text/plain": [
       "0"
      ]
     },
     "execution_count": 17,
     "metadata": {},
     "output_type": "execute_result"
    }
   ],
   "source": [
    "(autoencoder.predict(batches)[0][123464:123464+25499] == 1.0).sum()"
   ]
  },
  {
   "cell_type": "code",
   "execution_count": 29,
   "metadata": {
    "scrolled": true
   },
   "outputs": [
    {
     "data": {
      "text/plain": [
       "array([['守ってあげたい / Mamotte Agetai (지켜주고 싶어)',\n",
       "        '道化師のソネット / Doukeshino Sonnet (피에로의 소네트)', 'Show Me', 'Moai',\n",
       "        'Walk', '설마 그럴 리가 없어', 'Audition (Time2Rock)', '환상',\n",
       "        'にんじん / Ninjin (당근)', 'Never Been Gone', '고백', '바보에게... 바보가',\n",
       "        'ブ-アの森 /Boer No Mori (보어(Boer)의 숲)', 'Wings', '좀 더 둘이서',\n",
       "        '함께 있는 우리를 보고 싶다', '연애의 방식', 'Hoshi Uta (별의 노래)', '한사람을 위한 마음',\n",
       "        '그런 사람 또 없습니다', 'Movin` On', 'Rat', '소격동', 'Picnic',\n",
       "        'Jingle Bells', '청춘 (Feat. 이상순)', 'Air On G String (G선상의 아리아)',\n",
       "        'Just Go', 'Baby Blue', 'Mr.Miz (Feat. DEPAPEPE, Miz)', '1/10',\n",
       "        'Let Us Go To The Wood', '봄눈', '살랑살랑', '천개의 바람이 되어',\n",
       "        '잊지 말기로 해 (Bonus Track)', '다 줄거야 (Acoustic Ver.)',\n",
       "        'チャッタリング / Chattering', 'The Broken', 'New Home', 'Fly Away',\n",
       "        'Please Don`t Go', 'I`m Not In Love',\n",
       "        'Pai De Santo (Feat. Woz Kaly)', 'Last Song', '아침의 눈', '그게 나야',\n",
       "        '욕심쟁이 (duet with 이소은)', 'Asitakato San (아시타카와 산) (`원령공주` 중에서)',\n",
       "        '절대사랑', '겨울', '기다림', '락', '힐링', '활기', '까페', '귀엽고', '휴식', 'Rock',\n",
       "        '잔잔한', '첫사랑', '설렘', '아기자기한', '발라드', 'Remake', '따뜻', '재즈', 'Pop',\n",
       "        '추억', '사랑', '차', '정신차려', '팝', '마음이편해지는', 'Jazz', '생기', '음악',\n",
       "        '매장음악', '이효리', '기말고사', '여름밤', '싱그러운노래', '이지금', '봄', '이상순', '회상',\n",
       "        '굿모닝', '창가', '기분전환', '아침', '가을', '겨울연가', '여름', '배경음악', '산책',\n",
       "        '솔로', '에이제이미첼', '커피', '사랑해', '침대', 'GN0601', 'GN0101', 'GN1001',\n",
       "        'GN1701', 'GN0501', 'GN1501', 'GN0503', 'GN0509', 'GN0605',\n",
       "        'GN1801', 'GN0606', 'GN0104', 'GN0105', 'GN1706', 'GN1803',\n",
       "        'GN0901', 'GN1601', 'GN1608', 'GN1504', 'GN0801', 'GN0502',\n",
       "        'GN1502', 'GN0508', 'GN1903', 'GN0805', 'GN1401', 'GN2601',\n",
       "        'GN1806', 'GN1013', 'GN1402', 'GN1702', 'GN0103', 'GN1901',\n",
       "        'GN2603', 'GN0403', 'GN1703', 'GN1912', 'GN0401', 'GN1003',\n",
       "        'GN1708', 'GN1902', 'GN0201', 'GN1503', 'GN0907', 'GN0205',\n",
       "        'GN1705', 'GN2602', 'GN2501', 'GN1006', 'GN2503']], dtype='<U39')"
      ]
     },
     "execution_count": 29,
     "metadata": {},
     "output_type": "execute_result"
    }
   ],
   "source": [
    "predict_batches_TOPK(autoencoder, batches, mapping['inverse_mapping'], K=50)"
   ]
  },
  {
   "cell_type": "code",
   "execution_count": 26,
   "metadata": {
    "scrolled": true
   },
   "outputs": [
    {
     "data": {
      "text/plain": [
       "array([['듣고 자요', '별 보러 가자', '일기', '별', '혼잣말', '너의 밤은 어때', '잘거예요?', '달산책',\n",
       "        'HELP', '밤에 잠이 안 올 때', '밤하늘의 별들은', '자취방에서', 'Little Star',\n",
       "        '별이 되지 않아도 돼', '나 좋다는 사람', '흐르는 시간 속에 우리는 아름다워', '오늘', '백야',\n",
       "        '위로 (Feat. 준모 (프로젝트 슈즈))', '겨울을 걷는다', '니가 보고싶은 밤', '새벽', '자장가',\n",
       "        '내가 니편이 되어줄게 (Feat. 하은)', '소란했던 시절에', '에펠탑 효과', '그믐달', '너의 하루',\n",
       "        '누군가의 빛나던', '하늘엔 별이 떠있고 너만큼은 빛나질 않아',\n",
       "        '누군가의 위로가 필요한 밤 (Remastered)', '고래에게', '수고했어, 오늘도',\n",
       "        'Call Me Now', '쉿', '27살의 고백', '너라는 여행', '퇴근길', '새벽 통화',\n",
       "        '어른이 된다는 건', 'The Door', '처음이니까', '비', '나는 새롭게 떠오른 외로움을 봐요',\n",
       "        '좋았을텐데', '답답한 새벽', '잡지 않았어', '너를 수놓은 밤 (feat. 멜튼 Of 굿나잇스탠드)',\n",
       "        '너와 나의 별이야기 (Piano 양자인)', '노력', '새벽', '밤', '감성', '인디', '잔잔한',\n",
       "        '인디음악', '발라드', '기분전환', '위로', '어쿠스틱', '사랑', '혼자', '겨울', '여름',\n",
       "        '힐링', '자기전에_듣기좋은_노래', '잠들기전', '잔잔', '음악', '가을', '자기전', '팝',\n",
       "        '감성인디', '인디추천', '휴식', '비오는날', '늦은밤', '지친', '퇴근길', '쓸쓸함', '잘자요',\n",
       "        '가을밤', '음악추천', '하루', '인디감성', '가요', '스트레스', '새벽감성', '우울', '비',\n",
       "        '자기전에', '여름밤', '재즈', '인디노래', '고요함', '방안에서', '이별', '위로가', '기분',\n",
       "        '퇴근후', 'GN0801', 'GN0501', 'GN0509', 'GN0805', 'GN0601',\n",
       "        'GN0502', 'GN0606', 'GN0101', 'GN0503', 'GN0506', 'GN0105',\n",
       "        'GN0401', 'GN0403', 'GN1504', 'GN1501', 'GN2502', 'GN0605',\n",
       "        'GN0104', 'GN2501', 'GN0301', 'GN0303', 'GN2505', 'GN0402',\n",
       "        'GN1701', 'GN1703', 'GN0201', 'GN0804', 'GN0505', 'GN0304',\n",
       "        'GN1302', 'GN0508', 'GN2402', 'GN2601', 'GN1606', 'GN0504',\n",
       "        'GN0901', 'GN0302', 'nan', 'GN2401', 'GN0205', 'GN1102',\n",
       "        'GN0902', 'GN1301', 'GN2506', 'GN2503', 'GN1101', 'GN1308',\n",
       "        'GN0103', 'GN2202', 'GN2603']], dtype='<U29')"
      ]
     },
     "execution_count": 26,
     "metadata": {},
     "output_type": "execute_result"
    }
   ],
   "source": [
    "predict_batches_TOPK(autoencoder, next(a), mapping['inverse_mapping'], K=50)"
   ]
  },
  {
   "cell_type": "code",
   "execution_count": 30,
   "metadata": {},
   "outputs": [],
   "source": [
    "genres = pd.read_json(\"./data/genre_gn_all.json\", typ='series')"
   ]
  },
  {
   "cell_type": "code",
   "execution_count": 45,
   "metadata": {
    "scrolled": true
   },
   "outputs": [
    {
     "data": {
      "text/html": [
       "<div>\n",
       "<style scoped>\n",
       "    .dataframe tbody tr th:only-of-type {\n",
       "        vertical-align: middle;\n",
       "    }\n",
       "\n",
       "    .dataframe tbody tr th {\n",
       "        vertical-align: top;\n",
       "    }\n",
       "\n",
       "    .dataframe thead th {\n",
       "        text-align: right;\n",
       "    }\n",
       "</style>\n",
       "<table border=\"1\" class=\"dataframe\">\n",
       "  <thead>\n",
       "    <tr style=\"text-align: right;\">\n",
       "      <th></th>\n",
       "      <th>tags</th>\n",
       "      <th>id</th>\n",
       "      <th>plylst_title</th>\n",
       "      <th>songs</th>\n",
       "      <th>like_cnt</th>\n",
       "      <th>updt_date</th>\n",
       "      <th>dataset</th>\n",
       "      <th>genres</th>\n",
       "    </tr>\n",
       "  </thead>\n",
       "  <tbody>\n",
       "    <tr>\n",
       "      <th>1</th>\n",
       "      <td>[]</td>\n",
       "      <td>10532</td>\n",
       "      <td>요즘 너 말야</td>\n",
       "      <td>[109538, 1286, 107, 24687, 85301, 115461, 7698...</td>\n",
       "      <td>1</td>\n",
       "      <td>2014-12-02 16:19:42.000</td>\n",
       "      <td>1</td>\n",
       "      <td>[149038, 149006, 149066, 149029, 148963, 14897...</td>\n",
       "    </tr>\n",
       "    <tr>\n",
       "      <th>4</th>\n",
       "      <td>[]</td>\n",
       "      <td>27616</td>\n",
       "      <td>추억의 노래 ㅋ</td>\n",
       "      <td>[31734, 4180, 1146, 693, 6486, 796, 2109, 8254...</td>\n",
       "      <td>9</td>\n",
       "      <td>2011-10-25 13:54:56.000</td>\n",
       "      <td>1</td>\n",
       "      <td>[148978, 148980, 148992, 148973, 149035, 14898...</td>\n",
       "    </tr>\n",
       "    <tr>\n",
       "      <th>6</th>\n",
       "      <td>[123489, 123478, 123471]</td>\n",
       "      <td>45339</td>\n",
       "      <td>짝사랑..고백..사랑..이별..슬픔.. 감성을 자극하는곡들!</td>\n",
       "      <td>[1767, 656, 6643, 3165, 2651, 1409, 1013, 1459...</td>\n",
       "      <td>24</td>\n",
       "      <td>2016-10-24 21:30:17.000</td>\n",
       "      <td>1</td>\n",
       "      <td>[148984, 148964, 148969, 148963, 148974, 14896...</td>\n",
       "    </tr>\n",
       "    <tr>\n",
       "      <th>8</th>\n",
       "      <td>[123528, 123610, 123624]</td>\n",
       "      <td>70741</td>\n",
       "      <td>DANCING IN THE MOON-LIGHT .01</td>\n",
       "      <td>[90815, 3602, 1171, 1572, 17735, 119423, 10487...</td>\n",
       "      <td>0</td>\n",
       "      <td>2019-11-30 21:17:59.000</td>\n",
       "      <td>1</td>\n",
       "      <td>[148966, 148975, 148969, 148963, 148964, 14897...</td>\n",
       "    </tr>\n",
       "    <tr>\n",
       "      <th>10</th>\n",
       "      <td>[125516, 123715]</td>\n",
       "      <td>31804</td>\n",
       "      <td>걸그룹 땐쓰쏭</td>\n",
       "      <td>[2151, 1444, 132, 108, 1135, 970, 3991, 13816,...</td>\n",
       "      <td>74</td>\n",
       "      <td>2020-04-13 23:36:55.000</td>\n",
       "      <td>1</td>\n",
       "      <td>[148985, 148994, 148973, 148992, 148978, 14897...</td>\n",
       "    </tr>\n",
       "    <tr>\n",
       "      <th>...</th>\n",
       "      <td>...</td>\n",
       "      <td>...</td>\n",
       "      <td>...</td>\n",
       "      <td>...</td>\n",
       "      <td>...</td>\n",
       "      <td>...</td>\n",
       "      <td>...</td>\n",
       "      <td>...</td>\n",
       "    </tr>\n",
       "    <tr>\n",
       "      <th>115058</th>\n",
       "      <td>[]</td>\n",
       "      <td>79538</td>\n",
       "      <td>여자친구 명곡</td>\n",
       "      <td>[44040, 7787, 9471, 6385, 11559, 23204, 9375, ...</td>\n",
       "      <td>6</td>\n",
       "      <td>2018-03-09 14:24:37.000</td>\n",
       "      <td>1</td>\n",
       "      <td>[149017, 148994, 148963, 148978, 148985, 14897...</td>\n",
       "    </tr>\n",
       "    <tr>\n",
       "      <th>115060</th>\n",
       "      <td>[123594, 123625, 123772, 123469, 123528]</td>\n",
       "      <td>63967</td>\n",
       "      <td>#기분업! 에너지필~ 사운드굿! 해외 EDM/일렉 선곡#2019년9월#</td>\n",
       "      <td>[58044, 7580, 111384, 66910, 100591, 15316, 11...</td>\n",
       "      <td>10</td>\n",
       "      <td>2019-12-21 11:22:39.000</td>\n",
       "      <td>1</td>\n",
       "      <td>[149048, 149061, 149046, 149011, 149027, 14899...</td>\n",
       "    </tr>\n",
       "    <tr>\n",
       "      <th>115061</th>\n",
       "      <td>[]</td>\n",
       "      <td>53627</td>\n",
       "      <td>카페에서 손님들이 궁금해하는노래^.^</td>\n",
       "      <td>[4547, 1227, 1827, 534, 22411, 4, 466, 2554, 2...</td>\n",
       "      <td>489</td>\n",
       "      <td>2013-10-08 18:05:58.000</td>\n",
       "      <td>1</td>\n",
       "      <td>[148969, 148964, 148966, 148975, 148963, 14898...</td>\n",
       "    </tr>\n",
       "    <tr>\n",
       "      <th>115062</th>\n",
       "      <td>[123470]</td>\n",
       "      <td>2531</td>\n",
       "      <td>J pop처음 듣는 사람도 중독된 듯 빠져드는 j pop 리스트</td>\n",
       "      <td>[11354, 77817, 51023, 82026, 121135, 122271, 8...</td>\n",
       "      <td>344</td>\n",
       "      <td>2015-12-30 19:41:08.000</td>\n",
       "      <td>1</td>\n",
       "      <td>[149018, 149039, 149016, 149069, 149076, 14906...</td>\n",
       "    </tr>\n",
       "    <tr>\n",
       "      <th>115066</th>\n",
       "      <td>[143935, 123624, 123848]</td>\n",
       "      <td>120325</td>\n",
       "      <td>METAL E'SM #2</td>\n",
       "      <td>[]</td>\n",
       "      <td>3</td>\n",
       "      <td>2020-04-17 04:31:11.000</td>\n",
       "      <td>1</td>\n",
       "      <td>[149059]</td>\n",
       "    </tr>\n",
       "  </tbody>\n",
       "</table>\n",
       "<p>23015 rows × 8 columns</p>\n",
       "</div>"
      ],
      "text/plain": [
       "                                            tags      id  \\\n",
       "1                                             []   10532   \n",
       "4                                             []   27616   \n",
       "6                       [123489, 123478, 123471]   45339   \n",
       "8                       [123528, 123610, 123624]   70741   \n",
       "10                              [125516, 123715]   31804   \n",
       "...                                          ...     ...   \n",
       "115058                                        []   79538   \n",
       "115060  [123594, 123625, 123772, 123469, 123528]   63967   \n",
       "115061                                        []   53627   \n",
       "115062                                  [123470]    2531   \n",
       "115066                  [143935, 123624, 123848]  120325   \n",
       "\n",
       "                                   plylst_title  \\\n",
       "1                                       요즘 너 말야   \n",
       "4                                      추억의 노래 ㅋ   \n",
       "6             짝사랑..고백..사랑..이별..슬픔.. 감성을 자극하는곡들!   \n",
       "8                 DANCING IN THE MOON-LIGHT .01   \n",
       "10                                     걸그룹 땐쓰쏭    \n",
       "...                                         ...   \n",
       "115058                                  여자친구 명곡   \n",
       "115060  #기분업! 에너지필~ 사운드굿! 해외 EDM/일렉 선곡#2019년9월#   \n",
       "115061                     카페에서 손님들이 궁금해하는노래^.^   \n",
       "115062      J pop처음 듣는 사람도 중독된 듯 빠져드는 j pop 리스트   \n",
       "115066                            METAL E'SM #2   \n",
       "\n",
       "                                                    songs  like_cnt  \\\n",
       "1       [109538, 1286, 107, 24687, 85301, 115461, 7698...         1   \n",
       "4       [31734, 4180, 1146, 693, 6486, 796, 2109, 8254...         9   \n",
       "6       [1767, 656, 6643, 3165, 2651, 1409, 1013, 1459...        24   \n",
       "8       [90815, 3602, 1171, 1572, 17735, 119423, 10487...         0   \n",
       "10      [2151, 1444, 132, 108, 1135, 970, 3991, 13816,...        74   \n",
       "...                                                   ...       ...   \n",
       "115058  [44040, 7787, 9471, 6385, 11559, 23204, 9375, ...         6   \n",
       "115060  [58044, 7580, 111384, 66910, 100591, 15316, 11...        10   \n",
       "115061  [4547, 1227, 1827, 534, 22411, 4, 466, 2554, 2...       489   \n",
       "115062  [11354, 77817, 51023, 82026, 121135, 122271, 8...       344   \n",
       "115066                                                 []         3   \n",
       "\n",
       "                      updt_date  dataset  \\\n",
       "1       2014-12-02 16:19:42.000        1   \n",
       "4       2011-10-25 13:54:56.000        1   \n",
       "6       2016-10-24 21:30:17.000        1   \n",
       "8       2019-11-30 21:17:59.000        1   \n",
       "10      2020-04-13 23:36:55.000        1   \n",
       "...                         ...      ...   \n",
       "115058  2018-03-09 14:24:37.000        1   \n",
       "115060  2019-12-21 11:22:39.000        1   \n",
       "115061  2013-10-08 18:05:58.000        1   \n",
       "115062  2015-12-30 19:41:08.000        1   \n",
       "115066  2020-04-17 04:31:11.000        1   \n",
       "\n",
       "                                                   genres  \n",
       "1       [149038, 149006, 149066, 149029, 148963, 14897...  \n",
       "4       [148978, 148980, 148992, 148973, 149035, 14898...  \n",
       "6       [148984, 148964, 148969, 148963, 148974, 14896...  \n",
       "8       [148966, 148975, 148969, 148963, 148964, 14897...  \n",
       "10      [148985, 148994, 148973, 148992, 148978, 14897...  \n",
       "...                                                   ...  \n",
       "115058  [149017, 148994, 148963, 148978, 148985, 14897...  \n",
       "115060  [149048, 149061, 149046, 149011, 149027, 14899...  \n",
       "115061  [148969, 148964, 148966, 148975, 148963, 14898...  \n",
       "115062  [149018, 149039, 149016, 149069, 149076, 14906...  \n",
       "115066                                           [149059]  \n",
       "\n",
       "[23015 rows x 8 columns]"
      ]
     },
     "execution_count": 45,
     "metadata": {},
     "output_type": "execute_result"
    }
   ],
   "source": [
    "full[full['dataset']==1]"
   ]
  },
  {
   "cell_type": "code",
   "execution_count": 52,
   "metadata": {},
   "outputs": [
    {
     "data": {
      "text/html": [
       "<div>\n",
       "<style scoped>\n",
       "    .dataframe tbody tr th:only-of-type {\n",
       "        vertical-align: middle;\n",
       "    }\n",
       "\n",
       "    .dataframe tbody tr th {\n",
       "        vertical-align: top;\n",
       "    }\n",
       "\n",
       "    .dataframe thead th {\n",
       "        text-align: right;\n",
       "    }\n",
       "</style>\n",
       "<table border=\"1\" class=\"dataframe\">\n",
       "  <thead>\n",
       "    <tr style=\"text-align: right;\">\n",
       "      <th></th>\n",
       "      <th>song_gn_dtl_gnr_basket</th>\n",
       "      <th>issue_date</th>\n",
       "      <th>album_name</th>\n",
       "      <th>album_id</th>\n",
       "      <th>artist_id_basket</th>\n",
       "      <th>song_name</th>\n",
       "      <th>song_gn_gnr_basket</th>\n",
       "      <th>artist_name_basket</th>\n",
       "      <th>id</th>\n",
       "    </tr>\n",
       "  </thead>\n",
       "  <tbody>\n",
       "    <tr>\n",
       "      <th>129258</th>\n",
       "      <td>[GN1803, GN1801]</td>\n",
       "      <td>20140610</td>\n",
       "      <td>LUNCH de PIANO Part2</td>\n",
       "      <td>2259920</td>\n",
       "      <td>[774540]</td>\n",
       "      <td>道化師のソネット / Doukeshino Sonnet (피에로의 소네트)</td>\n",
       "      <td>[GN1800]</td>\n",
       "      <td>[Obara Takashi]</td>\n",
       "      <td>129258</td>\n",
       "    </tr>\n",
       "  </tbody>\n",
       "</table>\n",
       "</div>"
      ],
      "text/plain": [
       "       song_gn_dtl_gnr_basket  issue_date            album_name  album_id  \\\n",
       "129258       [GN1803, GN1801]    20140610  LUNCH de PIANO Part2   2259920   \n",
       "\n",
       "       artist_id_basket                                song_name  \\\n",
       "129258         [774540]  道化師のソネット / Doukeshino Sonnet (피에로의 소네트)   \n",
       "\n",
       "       song_gn_gnr_basket artist_name_basket      id  \n",
       "129258           [GN1800]    [Obara Takashi]  129258  "
      ]
     },
     "execution_count": 52,
     "metadata": {},
     "output_type": "execute_result"
    }
   ],
   "source": [
    "songmeta[songmeta['id']==mapping['inverse_mapping'][85301]]"
   ]
  },
  {
   "cell_type": "code",
   "execution_count": null,
   "metadata": {},
   "outputs": [],
   "source": []
  }
 ],
 "metadata": {
  "kernelspec": {
   "display_name": "Python 3",
   "language": "python",
   "name": "python3"
  },
  "language_info": {
   "codemirror_mode": {
    "name": "ipython",
    "version": 3
   },
   "file_extension": ".py",
   "mimetype": "text/x-python",
   "name": "python",
   "nbconvert_exporter": "python",
   "pygments_lexer": "ipython3",
   "version": "3.6.5"
  },
  "toc": {
   "base_numbering": 1,
   "nav_menu": {},
   "number_sections": true,
   "sideBar": true,
   "skip_h1_title": false,
   "title_cell": "Table of Contents",
   "title_sidebar": "Contents",
   "toc_cell": false,
   "toc_position": {},
   "toc_section_display": true,
   "toc_window_display": false
  },
  "varInspector": {
   "cols": {
    "lenName": 16,
    "lenType": 16,
    "lenVar": 40
   },
   "kernels_config": {
    "python": {
     "delete_cmd_postfix": "",
     "delete_cmd_prefix": "del ",
     "library": "var_list.py",
     "varRefreshCmd": "print(var_dic_list())"
    },
    "r": {
     "delete_cmd_postfix": ") ",
     "delete_cmd_prefix": "rm(",
     "library": "var_list.r",
     "varRefreshCmd": "cat(var_dic_list()) "
    }
   },
   "types_to_exclude": [
    "module",
    "function",
    "builtin_function_or_method",
    "instance",
    "_Feature"
   ],
   "window_display": false
  }
 },
 "nbformat": 4,
 "nbformat_minor": 4
}
