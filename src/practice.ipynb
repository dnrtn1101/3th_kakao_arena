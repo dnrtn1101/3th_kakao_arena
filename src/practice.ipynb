{
 "cells": [
  {
   "cell_type": "code",
   "execution_count": 1,
   "metadata": {},
   "outputs": [],
   "source": [
    "import sys\n",
    "sys.path.append('./src')\n",
    "\n",
    "from utils import load_json, write_json\n",
    "\n",
    "import os\n",
    "import distutils.dir_util"
   ]
  },
  {
   "cell_type": "markdown",
   "metadata": {},
   "source": [
    "`playlists` 는 원소들이 각각 하나의 dictionary인 리스트. 각각의 원소들은 다음을 포함\n",
    "- tags\n",
    "- id\n",
    "- playlst_title\n",
    "- songs\n",
    "- like_cnt\n",
    "- updt_date"
   ]
  },
  {
   "cell_type": "code",
   "execution_count": 2,
   "metadata": {},
   "outputs": [
    {
     "name": "stdout",
     "output_type": "stream",
     "text": [
      "playlists - Type:<class 'list'>, Length:115071\n"
     ]
    },
    {
     "data": {
      "text/plain": [
       "{'tags': ['락'],\n",
       " 'id': 61281,\n",
       " 'plylst_title': '여행같은 음악',\n",
       " 'songs': [525514,\n",
       "  129701,\n",
       "  383374,\n",
       "  562083,\n",
       "  297861,\n",
       "  139541,\n",
       "  351214,\n",
       "  650298,\n",
       "  531057,\n",
       "  205238,\n",
       "  706183,\n",
       "  127099,\n",
       "  660493,\n",
       "  461973,\n",
       "  121455,\n",
       "  72552,\n",
       "  223955,\n",
       "  324992,\n",
       "  50104],\n",
       " 'like_cnt': 71,\n",
       " 'updt_date': '2013-12-19 18:36:19.000'}"
      ]
     },
     "execution_count": 2,
     "metadata": {},
     "output_type": "execute_result"
    }
   ],
   "source": [
    "playlists = load_json('./data/train.json')\n",
    "print(f\"playlists - Type:{type(playlists)}, Length:{len(playlists)}\")\n",
    "playlists[0]"
   ]
  },
  {
   "cell_type": "markdown",
   "metadata": {},
   "source": [
    "**evaluate.py**"
   ]
  },
  {
   "cell_type": "code",
   "execution_count": 3,
   "metadata": {},
   "outputs": [],
   "source": [
    "import numpy as np"
   ]
  },
  {
   "cell_type": "code",
   "execution_count": 17,
   "metadata": {},
   "outputs": [
    {
     "data": {
      "text/plain": [
       "1.4426950408889634"
      ]
     },
     "execution_count": 17,
     "metadata": {},
     "output_type": "execute_result"
    }
   ],
   "source": [
    "l = 1\n",
    "sum((1.0 / np.log(i + 2) for i in range(l)))"
   ]
  },
  {
   "cell_type": "code",
   "execution_count": 13,
   "metadata": {},
   "outputs": [
    {
     "data": {
      "text/plain": [
       "[1.4426950408889634,\n",
       " 0.9102392266268373,\n",
       " 0.7213475204444817,\n",
       " 0.6213349345596119,\n",
       " 0.5581106265512472,\n",
       " 0.5138983423697507,\n",
       " 0.48089834696298783,\n",
       " 0.45511961331341866,\n",
       " 0.43429448190325176,\n",
       " 0.4170323914242463]"
      ]
     },
     "execution_count": 13,
     "metadata": {},
     "output_type": "execute_result"
    }
   ],
   "source": [
    "[1.0 / np.log(i+2) for i in range(10)]"
   ]
  },
  {
   "cell_type": "markdown",
   "metadata": {},
   "source": [
    "**most_popular.py**"
   ]
  },
  {
   "cell_type": "code",
   "execution_count": 23,
   "metadata": {},
   "outputs": [],
   "source": [
    "from collections import Counter\n",
    "\n",
    "c = Counter()\n",
    "\n",
    "for playlist in playlists[:100]:\n",
    "    c.update(playlist['songs'])"
   ]
  },
  {
   "cell_type": "code",
   "execution_count": 25,
   "metadata": {},
   "outputs": [
    {
     "data": {
      "text/plain": [
       "[(627363, 5), (243099, 4), (152422, 3)]"
      ]
     },
     "execution_count": 25,
     "metadata": {},
     "output_type": "execute_result"
    }
   ],
   "source": [
    "c.most_common(3)"
   ]
  },
  {
   "cell_type": "code",
   "execution_count": null,
   "metadata": {},
   "outputs": [],
   "source": []
  }
 ],
 "metadata": {
  "kernelspec": {
   "display_name": "Python 3",
   "language": "python",
   "name": "python3"
  },
  "language_info": {
   "codemirror_mode": {
    "name": "ipython",
    "version": 3
   },
   "file_extension": ".py",
   "mimetype": "text/x-python",
   "name": "python",
   "nbconvert_exporter": "python",
   "pygments_lexer": "ipython3",
   "version": "3.6.5"
  },
  "toc": {
   "base_numbering": 1,
   "nav_menu": {},
   "number_sections": true,
   "sideBar": true,
   "skip_h1_title": false,
   "title_cell": "Table of Contents",
   "title_sidebar": "Contents",
   "toc_cell": false,
   "toc_position": {},
   "toc_section_display": true,
   "toc_window_display": false
  },
  "varInspector": {
   "cols": {
    "lenName": 16,
    "lenType": 16,
    "lenVar": 40
   },
   "kernels_config": {
    "python": {
     "delete_cmd_postfix": "",
     "delete_cmd_prefix": "del ",
     "library": "var_list.py",
     "varRefreshCmd": "print(var_dic_list())"
    },
    "r": {
     "delete_cmd_postfix": ") ",
     "delete_cmd_prefix": "rm(",
     "library": "var_list.r",
     "varRefreshCmd": "cat(var_dic_list()) "
    }
   },
   "types_to_exclude": [
    "module",
    "function",
    "builtin_function_or_method",
    "instance",
    "_Feature"
   ],
   "window_display": false
  }
 },
 "nbformat": 4,
 "nbformat_minor": 4
}
