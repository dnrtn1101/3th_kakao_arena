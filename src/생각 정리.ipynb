{
 "cells": [
  {
   "cell_type": "markdown",
   "metadata": {},
   "source": [
    "# 할 일 목록"
   ]
  },
  {
   "cell_type": "markdown",
   "metadata": {},
   "source": [
    "- 카카오 아레나 제공 베이스라인 모델 필사 (0528 완성)\n",
    "- 데이터 전처리 코드 작성 \n",
    "- Deep auto encoder for recommendation 튜토리얼 해보기 (해당 글 tensorflow 버전이 낮아서 포기)\n",
    "- updt 이전 인기곡들만 넣기 / updt와 수록곡 발매년도 사이의 관계 파악 (확인 결과 팝송들에서 이슈가 발생)\n",
    "- train, val, test에 있는 곡과 songmeta에 있는 곡 포함 관계 확인\n",
    "    - 만약 train, val, test에서 등장하지 않은 songmeta 곡들은 협업필터링으로는 추천하지 못할텐데 추천을 어떻게 할 것인가?\n"
   ]
  },
  {
   "cell_type": "markdown",
   "metadata": {},
   "source": [
    "# 일지"
   ]
  },
  {
   "cell_type": "markdown",
   "metadata": {},
   "source": [
    "## 2020년 05월 07일\n",
    "**3단계 접근 방법**\n",
    "- 플레이리스트에 수록된 곡들만으로 다음 곡들 예측\n",
    "    - Transformer 이용??\n",
    "        - 기존 Transformer의 word embedding -> self-attention 구조를\n",
    "        - latent vector -> self-attention 구조로?!\n",
    "- 태그 정보 추가해서 다음 곡들 예측\n",
    "- Mel-spectrogram 정보 추가해서 다음 곡들 예측\n",
    "\n",
    "**소수의 아티스트 (특히, 단일)만 포함하고 있는 플레이리스트 탐지 방법**\n",
    "- 단일 아티스트 플레이리스트로 판단되면, 해당 아티스트의 노래만 수록해야함\n",
    "- 그렇다면, 단일 아티스트 플레이리스트처럼 보였지만 사실 2명의 아티스트를 포함한 플레이리스트는 어떻게 판단할 것인가?\n",
    "    - ex) 앞 5곡은 IU 노래, 뒤 5곡은 폴킴 노래\n",
    "\n",
    "**동일 플레이리스트로 의심되는 것들 처리 방법**\n",
    "- ex) plylst_title == '#금요일'"
   ]
  },
  {
   "cell_type": "markdown",
   "metadata": {},
   "source": [
    "## 2020년 05월 10일\n",
    "**카카오 아레나 제공 EDA 필사 종료**<br/>\n",
    "**ACM RecySys Challenge 2018, 양호진님 솔루션 PPT 읽기**\n",
    "- Auto-Encoder 및 Denoising auto encoder 해봐야할 듯"
   ]
  },
  {
   "cell_type": "markdown",
   "metadata": {},
   "source": [
    "## 2020년 05월 27일\n",
    "**17일만에 하는거 실화냐?**<br/>\n",
    "**baseline code 따라쓰기 (1) - `split_data.py`, `utils.py`**\n",
    "- **fire 패키지 사용 방법 습득**\n",
    "    - python main.py 함수명 함수인자1 --argument=value\n",
    "- **split_data.py**\n",
    "    - mask는 왜 있는거지 ..?"
   ]
  },
  {
   "cell_type": "markdown",
   "metadata": {},
   "source": [
    "## 2020년 05월 28일\n",
    "**baseline code 따라쓰기 (2) - `evaluate.py`, `most_popular.py`**\n",
    "- 출사표 던졌다."
   ]
  },
  {
   "cell_type": "markdown",
   "metadata": {},
   "source": [
    "## 2020년 06월 07일\n",
    "`train.py` 모듈화해서 작성\n",
    "- `train` 함수 및 `main` 함수 구조 확인\n",
    "- argparse 활용 최소한으로 확인\n",
    "\n",
    "`tf.data.Dataset`의 `from_tensor_slices` 튜토리얼 완료했지만, 이전 커스터마이징이 뛰어난 `DataGenerator`는 아니였음"
   ]
  },
  {
   "cell_type": "markdown",
   "metadata": {},
   "source": [
    "# 아카이브\n",
    "## 논문\n",
    "- [BERT를 사용한 추천시스템: BERT4Rec](https://arxiv.org/abs/1904.06690?utm_source=feedburner&utm_medium=feed&utm_campaign=Feed%253A+arxiv%252FQSXk+%2528ExcitingAds%2521+cs+updates+on+arXiv.org%2529)\n",
    "\n",
    "## 블로그글\n",
    "- [Transformer를 사용한 추천시스템](https://jisoo-coding.tistory.com/25)\n",
    "- [Deep Autoencoders For Collaborative Filtering](https://towardsdatascience.com/deep-autoencoders-for-collaborative-filtering-6cf8d25bbf1d)\n",
    "\n",
    "## 기타\n",
    "- [ACM RecSys Challenge 2018](http://www.recsyschallenge.com/2018/)\n",
    "- [양호진님 RecSys Challenge 솔루션](https://github.com/hojinYang/spotify_recSys_challenge_2018)"
   ]
  },
  {
   "cell_type": "code",
   "execution_count": null,
   "metadata": {},
   "outputs": [],
   "source": []
  }
 ],
 "metadata": {
  "kernelspec": {
   "display_name": "Python 3",
   "language": "python",
   "name": "python3"
  },
  "language_info": {
   "codemirror_mode": {
    "name": "ipython",
    "version": 3
   },
   "file_extension": ".py",
   "mimetype": "text/x-python",
   "name": "python",
   "nbconvert_exporter": "python",
   "pygments_lexer": "ipython3",
   "version": "3.6.5"
  },
  "toc": {
   "base_numbering": 1,
   "nav_menu": {},
   "number_sections": false,
   "sideBar": true,
   "skip_h1_title": false,
   "title_cell": "Table of Contents",
   "title_sidebar": "Contents",
   "toc_cell": false,
   "toc_position": {
    "height": "calc(100% - 180px)",
    "left": "10px",
    "top": "150px",
    "width": "172.986px"
   },
   "toc_section_display": true,
   "toc_window_display": true
  },
  "varInspector": {
   "cols": {
    "lenName": 16,
    "lenType": 16,
    "lenVar": 40
   },
   "kernels_config": {
    "python": {
     "delete_cmd_postfix": "",
     "delete_cmd_prefix": "del ",
     "library": "var_list.py",
     "varRefreshCmd": "print(var_dic_list())"
    },
    "r": {
     "delete_cmd_postfix": ") ",
     "delete_cmd_prefix": "rm(",
     "library": "var_list.r",
     "varRefreshCmd": "cat(var_dic_list()) "
    }
   },
   "types_to_exclude": [
    "module",
    "function",
    "builtin_function_or_method",
    "instance",
    "_Feature"
   ],
   "window_display": false
  }
 },
 "nbformat": 4,
 "nbformat_minor": 4
}
