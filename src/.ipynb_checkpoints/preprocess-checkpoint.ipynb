{
 "cells": [
  {
   "cell_type": "code",
   "execution_count": 24,
   "metadata": {},
   "outputs": [],
   "source": [
    "import pickle\n",
    "\n",
    "import numpy as np\n",
    "import pandas as pd\n",
    "\n",
    "from sklearn.model_selection import train_test_split\n",
    "    \n",
    "def create_lookup(df, column, save=None):\n",
    "    df_expanding = df.explode(column)\n",
    "    \n",
    "    lookup = pd.factorize(df_expanding[column], sort = True)[1]\n",
    "    lookup = dict(zip(lookup, range(len(lookup))))\n",
    "    \n",
    "    if save:\n",
    "        with open(save, 'wb') as f:\n",
    "            pickle.dump(lookup, f)\n",
    "    \n",
    "    return lookup\n",
    "\n",
    "if __name__ == '__main__':\n",
    "    train = pd.read_json('../data/train.json')\n",
    "    val = pd.read_json('../data/val.json')\n",
    "    test = pd.read_json('../data/test.json')\n",
    "    \n",
    "    train_index, val_index = train_test_split(train.index, test_size = 0.2, random_state = 1)\n",
    "\n",
    "    train.loc[train_index, 'dataset'] = 0\n",
    "    train.loc[val_index, 'dataset'] = 1\n",
    "    val['dataset'] = 2\n",
    "    test['dataset'] = 3\n",
    "\n",
    "    full = pd.concat([train, val, test], axis = 0, ignore_index = True)\n",
    "    del train, val, test\n",
    "    \n",
    "    full.loc[val_index, 'songs'] = full.loc[val_index, 'songs'].apply(lambda x: np.random.choice(x, size=int(len(x)*0.5), replace=False))\n",
    "    full.loc[val_index, 'songs'] = full.loc[val_index, 'songs'].apply(lambda x: x if np.random.choice([0,1], p=[0.2, 0.8]) == 1 else [])\n",
    "\n",
    "    for column in ['songs', 'tags']:\n",
    "        lookup = create_lookup(full, column, save = f'../output/lookup_{column}_0620.pickle')\n",
    "        full[column] = full[column].apply(lambda x: list(map(lambda y: lookup[y], x)))\n",
    "        \n",
    "    full.to_json('../output/full(0620).json')"
   ]
  }
 ],
 "metadata": {
  "kernelspec": {
   "display_name": "Python 3",
   "language": "python",
   "name": "python3"
  },
  "language_info": {
   "codemirror_mode": {
    "name": "ipython",
    "version": 3
   },
   "file_extension": ".py",
   "mimetype": "text/x-python",
   "name": "python",
   "nbconvert_exporter": "python",
   "pygments_lexer": "ipython3",
   "version": "3.6.5"
  },
  "toc": {
   "base_numbering": 1,
   "nav_menu": {},
   "number_sections": true,
   "sideBar": true,
   "skip_h1_title": false,
   "title_cell": "Table of Contents",
   "title_sidebar": "Contents",
   "toc_cell": false,
   "toc_position": {},
   "toc_section_display": true,
   "toc_window_display": false
  },
  "varInspector": {
   "cols": {
    "lenName": 16,
    "lenType": 16,
    "lenVar": 40
   },
   "kernels_config": {
    "python": {
     "delete_cmd_postfix": "",
     "delete_cmd_prefix": "del ",
     "library": "var_list.py",
     "varRefreshCmd": "print(var_dic_list())"
    },
    "r": {
     "delete_cmd_postfix": ") ",
     "delete_cmd_prefix": "rm(",
     "library": "var_list.r",
     "varRefreshCmd": "cat(var_dic_list()) "
    }
   },
   "types_to_exclude": [
    "module",
    "function",
    "builtin_function_or_method",
    "instance",
    "_Feature"
   ],
   "window_display": false
  }
 },
 "nbformat": 4,
 "nbformat_minor": 4
}
